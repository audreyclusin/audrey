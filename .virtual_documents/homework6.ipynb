import numpy as np


list = [20, 27, 9, 12, 31, 17, 4, 50, 39, 35]

arr = np.array(list)

print(arr * 4)
print(np.mean(arr))
print(np.median(arr))
print(np.std(arr))
minimum = np.argmin(arr)
maximum = np.argmax(arr)
print(arr[minimum])
print(arr[maximum])
print(np.min(arr))
print(np.max(arr))
greater_20 = arr[arr>20]
print(greater_20)


matrix = [
[5, 12, 17, 9],
[8, 21, 14, 3],
[6, 13, 19, 11]
]
mat = np.array(matrix)

np.shape(matrix)
#3 rows, 4 columns 

print(mat[:, 2])
print(mat[1])
mat *= 2
print(mat)
print(np.mean(mat, axis = 1))
print(np.mean(mat))
print(np.min(mat, axis = 0))
print(np.max(mat, axis = 1))
mat_flat = mat.flatten()
print(mat_flat)
print(np.argmin(mat_flat))
print(np.argmax(mat_flat))
print(np.unravel_index(np.argmax(mat_flat), (3, 4)))
print(np.unravel_index(np.argmin(mat_flat), (3, 4)))
greater_15 = mat[mat>15]
print(greater_15)
mat = np.sort(mat, axis = 1)
print(mat)


def prime_mag(arr):
    rows_with_prime = []
    for row in arr:
        for number in row:
            factors = 0
            for i in range(number + 1):
                if number % (i + 1) == 0:
                    factors += 1
            if factors == 2:
                rows_with_prime.append(row.tolist())
                break
    print(rows_with_prime)

arr = np.array([
[2, 3, 5],
[14, 6, 8],
[11, 13, 17],
[7, 10, 13]
])

prime_mag(arr)


def eight_by_eight():
    print(np.zeros((8, 8)))
eight_by_eight()







