# Warmup:
# plt.plot() makes a continous line graph wile plt.scatter() makes a scatter plot
# plt.subplots(1, 2) makes two subplots next to eachother, while plt.subplots(2, 1) makes two subplots on top of eachother
# np.linspace(-61, 489, 152)


import numpy as np
import matplotlib.pyplot as plt


im = np.loadtxt("astro_image.csv")


im[0]


plt.figure()
plt.imshow()
plt.show



