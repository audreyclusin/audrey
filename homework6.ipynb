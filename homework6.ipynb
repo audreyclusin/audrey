{
 "cells": [
  {
   "cell_type": "code",
   "execution_count": 3,
   "id": "4952d3b2-c80a-46df-8e93-c78e00a100fb",
   "metadata": {},
   "outputs": [],
   "source": [
    "import numpy as np"
   ]
  },
  {
   "cell_type": "code",
   "execution_count": 25,
   "id": "cd60aace-9682-4595-94d0-e9e0d58d4f81",
   "metadata": {},
   "outputs": [
    {
     "name": "stdout",
     "output_type": "stream",
     "text": [
      "[ 80 108  36  48 124  68  16 200 156 140]\n",
      "24.4\n",
      "23.5\n",
      "13.828955130450023\n",
      "4\n",
      "50\n",
      "4\n",
      "50\n",
      "[27 31 50 39 35]\n"
     ]
    }
   ],
   "source": [
    "list = [20, 27, 9, 12, 31, 17, 4, 50, 39, 35]\n",
    "\n",
    "arr = np.array(list)\n",
    "\n",
    "print(arr * 4)\n",
    "print(np.mean(arr))\n",
    "print(np.median(arr))\n",
    "print(np.std(arr))\n",
    "minimum = np.argmin(arr)\n",
    "maximum = np.argmax(arr)\n",
    "print(arr[minimum])\n",
    "print(arr[maximum])\n",
    "print(np.min(arr))\n",
    "print(np.max(arr))\n",
    "greater_20 = arr[arr>20]\n",
    "print(greater_20)"
   ]
  },
  {
   "cell_type": "code",
   "execution_count": 108,
   "id": "08bedf5d-c97f-4295-970c-b41a7696cc14",
   "metadata": {},
   "outputs": [
    {
     "name": "stdout",
     "output_type": "stream",
     "text": [
      "[[2, 3, 5], [11, 13, 17], [7, 10, 13]]\n"
     ]
    }
   ],
   "source": [
    "def prime_mag(arr):\n",
    "    rows_with_prime = []\n",
    "    for row in arr:\n",
    "        for number in row:\n",
    "            factors = 0\n",
    "            for i in range(number + 1):\n",
    "                if number % (i + 1) == 0:\n",
    "                    factors += 1\n",
    "            if factors == 2:\n",
    "                rows_with_prime.append(row.tolist())\n",
    "                break\n",
    "    print(rows_with_prime)\n",
    "\n",
    "arr = np.array([\n",
    "[2, 3, 5],\n",
    "[14, 6, 8],\n",
    "[11, 13, 17],\n",
    "[7, 10, 13]\n",
    "])\n",
    "\n",
    "prime_mag(arr)"
   ]
  },
  {
   "cell_type": "code",
   "execution_count": 15,
   "id": "b1d1bcfe-6e4c-4cb1-8598-ea5c86f28943",
   "metadata": {},
   "outputs": [
    {
     "name": "stdout",
     "output_type": "stream",
     "text": [
      "[[1. 0. 1. 0. 1. 0. 1. 0.]\n",
      " [0. 1. 0. 1. 0. 1. 0. 1.]\n",
      " [1. 0. 1. 0. 1. 0. 1. 0.]\n",
      " [0. 1. 0. 1. 0. 1. 0. 1.]\n",
      " [1. 0. 1. 0. 1. 0. 1. 0.]\n",
      " [0. 1. 0. 1. 0. 1. 0. 1.]\n",
      " [1. 0. 1. 0. 1. 0. 1. 0.]\n",
      " [0. 1. 0. 1. 0. 1. 0. 1.]]\n",
      "[[1 0 1 0 1 0 1 0]\n",
      " [0 1 0 1 0 1 0 1]\n",
      " [1 0 1 0 1 0 1 0]\n",
      " [0 1 0 1 0 1 0 1]\n",
      " [1 0 1 0 1 0 1 0]\n",
      " [0 1 0 1 0 1 0 1]\n",
      " [1 0 1 0 1 0 1 0]\n",
      " [0 1 0 1 0 1 0 1]]\n",
      "[[1 0 1 0 1 0 1 0]\n",
      " [0 1 0 1 0 1 0 1]\n",
      " [1 0 1 0 1 0 1 0]\n",
      " [0 1 0 1 0 1 0 1]\n",
      " [1 0 1 0 1 0 1 0]\n",
      " [0 1 0 1 0 1 0 1]\n",
      " [1 0 1 0 1 0 1 0]\n",
      " [0 1 0 1 0 1 0 1]]\n"
     ]
    }
   ],
   "source": [
    "def eight_by_eight():\n",
    "    print(np.zeros((8, 8)))\n",
    "\n",
    "def alternating_ones(arr):\n",
    "    for i in range(arr.shape[0]):\n",
    "        for j in range(arr.shape[1]):\n",
    "            if (i + j) % 2 == 0:\n",
    "                arr[i, j] = 1\n",
    "    return arr\n",
    "    \n",
    "checkers = alternating_ones(np.zeros((8, 8)))\n",
    "print(checkers)\n",
    "\n",
    "finished_checkers = checkers.astype(int)\n",
    "print(finished_checkers)\n",
    "\n",
    "def reverse_the_board(arr):\n",
    "    for i in range(arr.shape[0]):\n",
    "        for j in range(arr.shape[1]):\n",
    "            if arr[i, j] == 0:\n",
    "                arr[i, j] == 1\n",
    "            else: \n",
    "                arr[i, j] == 0\n",
    "    return arr\n",
    "\n",
    "reverse_checkers = reverse_the_board(finished_checkers)\n",
    "print(reverse_checkers)"
   ]
  },
  {
   "cell_type": "code",
   "execution_count": 15,
   "id": "df02bd83-9521-46d3-a8ef-4df70f987c6c",
   "metadata": {},
   "outputs": [
    {
     "name": "stdout",
     "output_type": "stream",
     "text": [
      "g               a               l               a               x               y\n",
      "c               l               u               s               t               e               r\n"
     ]
    }
   ],
   "source": [
    "def spacer(words, number):\n",
    "    for word in words:\n",
    "        i = 0\n",
    "        while i < number:\n",
    "            word = np.char.join(' ', word)\n",
    "            i += 1\n",
    "        print(word)\n",
    "\n",
    "spacer([\"galaxy\", \"cluster\"], 4)"
   ]
  },
  {
   "cell_type": "code",
   "execution_count": 26,
   "id": "a47dfd51-edd9-4de5-a027-65e761b609bd",
   "metadata": {},
   "outputs": [
    {
     "data": {
      "text/plain": [
       "[1578, 993, 1943, 967, 1413]"
      ]
     },
     "execution_count": 26,
     "metadata": {},
     "output_type": "execute_result"
    }
   ],
   "source": [
    "def second_brightest(stars):\n",
    "    second_brightest_stars = []\n",
    "    for row in stars:\n",
    "        row = np.delete(row, np.argmax(row))\n",
    "        second_brightest = int(np.max(row))\n",
    "        second_brightest_stars.append(second_brightest)\n",
    "    return second_brightest_stars\n",
    "        \n",
    "\n",
    "stars = np.random.randint(500, 2000, (5, 5))\n",
    "second_brightest(stars)"
   ]
  },
  {
   "cell_type": "code",
   "execution_count": null,
   "id": "6fce9a0e-146b-4638-b3e3-aa0b0a0f2125",
   "metadata": {},
   "outputs": [],
   "source": []
  }
 ],
 "metadata": {
  "kernelspec": {
   "display_name": "Python [conda env:base] *",
   "language": "python",
   "name": "conda-base-py"
  },
  "language_info": {
   "codemirror_mode": {
    "name": "ipython",
    "version": 3
   },
   "file_extension": ".py",
   "mimetype": "text/x-python",
   "name": "python",
   "nbconvert_exporter": "python",
   "pygments_lexer": "ipython3",
   "version": "3.13.5"
  }
 },
 "nbformat": 4,
 "nbformat_minor": 5
}
