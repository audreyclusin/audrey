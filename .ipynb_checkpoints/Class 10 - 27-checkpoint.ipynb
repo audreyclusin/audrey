{
 "cells": [
  {
   "cell_type": "code",
   "execution_count": null,
   "id": "9ed46962-0ac4-4197-9c81-833a55e0b32e",
   "metadata": {},
   "outputs": [],
   "source": [
    "'''\n",
    "Warmup:\n",
    "1) A series is more similar to a list, while a Data Frame is more similar to a table\n",
    "2) df['words'] = ['sentences']\n",
    "3) print(df.shape), shape = dimensions(rowsxcolumns)\n",
    "4) pd.read_csv(file.csv)\n",
    "5) pd.assign() - this function creates a new column in your data frame \n",
    "'''"
   ]
  },
  {
   "cell_type": "code",
   "execution_count": null,
   "id": "c280e898-166f-4772-8e34-370208e659a7",
   "metadata": {},
   "outputs": [],
   "source": []
  }
 ],
 "metadata": {
  "kernelspec": {
   "display_name": "Python [conda env:base] *",
   "language": "python",
   "name": "conda-base-py"
  },
  "language_info": {
   "codemirror_mode": {
    "name": "ipython",
    "version": 3
   },
   "file_extension": ".py",
   "mimetype": "text/x-python",
   "name": "python",
   "nbconvert_exporter": "python",
   "pygments_lexer": "ipython3",
   "version": "3.13.5"
  }
 },
 "nbformat": 4,
 "nbformat_minor": 5
}
