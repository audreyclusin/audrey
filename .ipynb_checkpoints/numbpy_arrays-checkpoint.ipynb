{
 "cells": [
  {
   "cell_type": "code",
   "execution_count": null,
   "id": "73e62293-512a-4723-a566-5d765c5238f1",
   "metadata": {},
   "outputs": [],
   "source": [
    "import numpy as np"
   ]
  },
  {
   "cell_type": "code",
   "execution_count": 1,
   "id": "377257ab-002a-4909-abb5-c973c8eddd55",
   "metadata": {},
   "outputs": [
    {
     "name": "stdout",
     "output_type": "stream",
     "text": [
      "hello\n"
     ]
    }
   ],
   "source": [
    "print(\"hello\")"
   ]
  },
  {
   "cell_type": "code",
   "execution_count": 2,
   "id": "c220fd84-1b5c-4d24-9dd4-10de781021a6",
   "metadata": {},
   "outputs": [
    {
     "name": "stdout",
     "output_type": "stream",
     "text": [
      "[1, 2, 3]\n"
     ]
    }
   ],
   "source": [
    " numbers = [1, 2, 3]\n",
    "print(numbers)"
   ]
  },
  {
   "cell_type": "code",
   "execution_count": 3,
   "id": "1451edad-cf95-4ace-8706-f82590652a01",
   "metadata": {},
   "outputs": [
    {
     "name": "stdout",
     "output_type": "stream",
     "text": [
      "[1, 2, 3, 1, 2, 3]\n"
     ]
    }
   ],
   "source": [
    "doubled = numbers *2\n",
    "print(doubled)"
   ]
  },
  {
   "cell_type": "code",
   "execution_count": 4,
   "id": "3569dde5-3561-4d28-b99c-46e8a944fd9e",
   "metadata": {},
   "outputs": [
    {
     "name": "stdout",
     "output_type": "stream",
     "text": [
      "[2, 4, 6]\n"
     ]
    }
   ],
   "source": [
    "doubled = []\n",
    "for num in numbers:\n",
    "    doubled.append(num*2)\n",
    "print(doubled)"
   ]
  },
  {
   "cell_type": "code",
   "execution_count": 6,
   "id": "ce4e2983-24b5-41a4-be6c-d93e70dabb2d",
   "metadata": {},
   "outputs": [
    {
     "name": "stdout",
     "output_type": "stream",
     "text": [
      "[1 2 3]\n"
     ]
    }
   ],
   "source": [
    "import numpy as np\n",
    "arr = np.array([1, 2, 3])\n",
    "print(arr)"
   ]
  },
  {
   "cell_type": "code",
   "execution_count": 7,
   "id": "9ba9f3db-0b8f-45bf-9aca-d23c1851161b",
   "metadata": {},
   "outputs": [
    {
     "name": "stdout",
     "output_type": "stream",
     "text": [
      "[2 4 6]\n"
     ]
    }
   ],
   "source": [
    "arr_doubled = arr*2\n",
    "print(arr_doubled)"
   ]
  },
  {
   "cell_type": "code",
   "execution_count": 8,
   "id": "903e71b4-3128-46ff-8ad0-99822c7e690b",
   "metadata": {},
   "outputs": [
    {
     "name": "stdout",
     "output_type": "stream",
     "text": [
      "<class 'numpy.ndarray'>\n"
     ]
    }
   ],
   "source": [
    "print(type(arr))"
   ]
  },
  {
   "cell_type": "code",
   "execution_count": 9,
   "id": "30825a8a-3f35-4608-be1d-6761d9b47498",
   "metadata": {},
   "outputs": [],
   "source": [
    "my_list = [3, 6, 9, 12]\n",
    "my_arr = np.array(my_list)"
   ]
  },
  {
   "cell_type": "code",
   "execution_count": 10,
   "id": "b8b4e5f6-4856-4f14-97b0-d8c5e14e015c",
   "metadata": {},
   "outputs": [
    {
     "name": "stdout",
     "output_type": "stream",
     "text": [
      "62.3\n",
      "39.5\n",
      "90.8493808454411\n",
      "8253.61\n"
     ]
    }
   ],
   "source": [
    "data = [44, 8, 332, 45, 37, 42, 47, 26, 31, 11]\n",
    "\n",
    "print(np.mean(data))\n",
    "print(np.median(data))\n",
    "print(np.std(data))\n",
    "print(np.var(data))"
   ]
  },
  {
   "cell_type": "code",
   "execution_count": 12,
   "id": "d7a3ac2b-9a97-4a17-acb3-fa51fa674489",
   "metadata": {},
   "outputs": [
    {
     "name": "stdout",
     "output_type": "stream",
     "text": [
      "1\n"
     ]
    }
   ],
   "source": [
    "nested = [\n",
    "    [1, 2, 3],\n",
    "    [4, 5, 6]\n",
    "]\n",
    "print(nested[0][0])"
   ]
  },
  {
   "cell_type": "code",
   "execution_count": 14,
   "id": "5dcd652e-64d1-400f-9e0c-975efd80701e",
   "metadata": {},
   "outputs": [
    {
     "name": "stdout",
     "output_type": "stream",
     "text": [
      "1\n"
     ]
    }
   ],
   "source": [
    "ndarray = np.array([\n",
    "    [1,2,3],\n",
    "    [4,5,6]\n",
    "])\n",
    "print(ndarray[0,0])"
   ]
  },
  {
   "cell_type": "code",
   "execution_count": null,
   "id": "1bcaafa9-ab28-4f85-b726-7504b141bf59",
   "metadata": {},
   "outputs": [],
   "source": []
  }
 ],
 "metadata": {
  "kernelspec": {
   "display_name": "Python [conda env:base] *",
   "language": "python",
   "name": "conda-base-py"
  },
  "language_info": {
   "codemirror_mode": {
    "name": "ipython",
    "version": 3
   },
   "file_extension": ".py",
   "mimetype": "text/x-python",
   "name": "python",
   "nbconvert_exporter": "python",
   "pygments_lexer": "ipython3",
   "version": "3.13.5"
  }
 },
 "nbformat": 4,
 "nbformat_minor": 5
}
