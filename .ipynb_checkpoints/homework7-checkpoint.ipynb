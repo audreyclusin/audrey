{
 "cells": [
  {
   "cell_type": "code",
   "execution_count": null,
   "id": "a7c25148-92b5-4af3-81c2-97f58e081d52",
   "metadata": {},
   "outputs": [],
   "source": [
    "import numpy as np\n",
    "import matplotlib.pyplot as plt"
   ]
  },
  {
   "cell_type": "code",
   "execution_count": null,
   "id": "fb27187a-acea-4660-94ba-bad9a12c1379",
   "metadata": {},
   "outputs": [],
   "source": [
    "def make_sine_wave(x, A, w):\n",
    "    y = A*sin(w*x)\n",
    "    \n",
    "    "
   ]
  },
  {
   "cell_type": "code",
   "execution_count": null,
   "id": "b2ee63eb-77d1-4cbb-888a-bad1c64fc280",
   "metadata": {},
   "outputs": [],
   "source": []
  }
 ],
 "metadata": {
  "kernelspec": {
   "display_name": "Python [conda env:base] *",
   "language": "python",
   "name": "conda-base-py"
  },
  "language_info": {
   "codemirror_mode": {
    "name": "ipython",
    "version": 3
   },
   "file_extension": ".py",
   "mimetype": "text/x-python",
   "name": "python",
   "nbconvert_exporter": "python",
   "pygments_lexer": "ipython3",
   "version": "3.13.5"
  }
 },
 "nbformat": 4,
 "nbformat_minor": 5
}
