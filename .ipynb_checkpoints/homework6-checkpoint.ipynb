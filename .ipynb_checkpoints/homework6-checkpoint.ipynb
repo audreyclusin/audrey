{
 "cells": [
  {
   "cell_type": "code",
   "execution_count": 1,
   "id": "4952d3b2-c80a-46df-8e93-c78e00a100fb",
   "metadata": {},
   "outputs": [],
   "source": [
    "import numpy as np"
   ]
  },
  {
   "cell_type": "code",
   "execution_count": 25,
   "id": "cd60aace-9682-4595-94d0-e9e0d58d4f81",
   "metadata": {},
   "outputs": [
    {
     "name": "stdout",
     "output_type": "stream",
     "text": [
      "[ 80 108  36  48 124  68  16 200 156 140]\n",
      "24.4\n",
      "23.5\n",
      "13.828955130450023\n",
      "4\n",
      "50\n",
      "4\n",
      "50\n",
      "[27 31 50 39 35]\n"
     ]
    }
   ],
   "source": [
    "list = [20, 27, 9, 12, 31, 17, 4, 50, 39, 35]\n",
    "\n",
    "arr = np.array(list)\n",
    "\n",
    "print(arr * 4)\n",
    "print(np.mean(arr))\n",
    "print(np.median(arr))\n",
    "print(np.std(arr))\n",
    "minimum = np.argmin(arr)\n",
    "maximum = np.argmax(arr)\n",
    "print(arr[minimum])\n",
    "print(arr[maximum])\n",
    "print(np.min(arr))\n",
    "print(np.max(arr))\n",
    "greater_20 = arr[arr>20]\n",
    "print(greater_20)"
   ]
  },
  {
   "cell_type": "code",
   "execution_count": 88,
   "id": "be01fa3a-a041-4b9f-9329-a5c5fd713c85",
   "metadata": {},
   "outputs": [
    {
     "name": "stdout",
     "output_type": "stream",
     "text": [
      "[17 14 19]\n",
      "[ 8 21 14  3]\n",
      "[[10 24 34 18]\n",
      " [16 42 28  6]\n",
      " [12 26 38 22]]\n",
      "[21.5 23.  24.5]\n",
      "23.0\n",
      "[10 24 28  6]\n",
      "[34 42 38]\n",
      "[10 24 34 18 16 42 28  6 12 26 38 22]\n",
      "7\n",
      "5\n",
      "(np.int64(1), np.int64(1))\n",
      "(np.int64(1), np.int64(3))\n",
      "[24 34 18 16 42 28 26 38 22]\n",
      "[[10 18 24 34]\n",
      " [ 6 16 28 42]\n",
      " [12 22 26 38]]\n"
     ]
    }
   ],
   "source": [
    "matrix = [\n",
    "[5, 12, 17, 9],\n",
    "[8, 21, 14, 3],\n",
    "[6, 13, 19, 11]\n",
    "]\n",
    "mat = np.array(matrix)\n",
    "\n",
    "np.shape(matrix)\n",
    "#3 rows, 4 columns \n",
    "\n",
    "print(mat[:, 2])\n",
    "print(mat[1])\n",
    "mat *= 2\n",
    "print(mat)\n",
    "print(np.mean(mat, axis = 1))\n",
    "print(np.mean(mat))\n",
    "print(np.min(mat, axis = 0))\n",
    "print(np.max(mat, axis = 1))\n",
    "mat_flat = mat.flatten()\n",
    "print(mat_flat)\n",
    "print(np.argmin(mat_flat))\n",
    "print(np.argmax(mat_flat))\n",
    "print(np.unravel_index(np.argmax(mat_flat), (3, 4)))\n",
    "print(np.unravel_index(np.argmin(mat_flat), (3, 4)))\n",
    "greater_15 = mat[mat>15]\n",
    "print(greater_15)\n",
    "mat = np.sort(mat, axis = 1)\n",
    "print(mat)"
   ]
  },
  {
   "cell_type": "code",
   "execution_count": null,
   "id": "08bedf5d-c97f-4295-970c-b41a7696cc14",
   "metadata": {},
   "outputs": [],
   "source": [
    "def prime_mag(arr):\n",
    "    rows_with_prime = []\n",
    "    for row in arr:\n",
    "        for number in row:\n",
    "            factors = 0\n",
    "            for i in range(number + 1):\n",
    "                if number % (i + 1) == 0:\n",
    "                    factors += 1\n",
    "            if factors == 2:\n",
    "                rows_with_prime.append(row)\n",
    "                break\n",
    "    print(rows_with_prime)\n",
    "\n",
    "arr = np.array([\n",
    "[2, 3, 5],\n",
    "[14, 6, 8],\n",
    "[11, 13, 17],\n",
    "[7, 10, 13]\n",
    "])\n",
    "\n",
    "prime_mag(arr)"
   ]
  },
  {
   "cell_type": "code",
   "execution_count": null,
   "id": "7f5d583a-f9a5-4fce-8861-87e388517811",
   "metadata": {},
   "outputs": [],
   "source": []
  },
  {
   "cell_type": "code",
   "execution_count": null,
   "id": "15b22ec3-f844-4850-acc3-26626ee032f8",
   "metadata": {},
   "outputs": [],
   "source": []
  },
  {
   "cell_type": "code",
   "execution_count": null,
   "id": "bf560ec8-a4e2-48ff-b600-6fa79618e567",
   "metadata": {},
   "outputs": [],
   "source": []
  },
  {
   "cell_type": "code",
   "execution_count": null,
   "id": "de544ab9-fea8-47d4-8cfc-22e58738f7ef",
   "metadata": {},
   "outputs": [],
   "source": []
  },
  {
   "cell_type": "code",
   "execution_count": null,
   "id": "b1d1bcfe-6e4c-4cb1-8598-ea5c86f28943",
   "metadata": {},
   "outputs": [],
   "source": []
  }
 ],
 "metadata": {
  "kernelspec": {
   "display_name": "Python [conda env:base] *",
   "language": "python",
   "name": "conda-base-py"
  },
  "language_info": {
   "codemirror_mode": {
    "name": "ipython",
    "version": 3
   },
   "file_extension": ".py",
   "mimetype": "text/x-python",
   "name": "python",
   "nbconvert_exporter": "python",
   "pygments_lexer": "ipython3",
   "version": "3.13.5"
  }
 },
 "nbformat": 4,
 "nbformat_minor": 5
}
